{
 "cells": [
  {
   "cell_type": "code",
   "execution_count": 1,
   "metadata": {},
   "outputs": [],
   "source": [
    "import os\n",
    "import math\n",
    "import time\n",
    "import sys\n",
    "import matplotlib.pyplot as plt\n",
    "import torch\n",
    "import torch.nn as nn\n",
    "import torch.nn.functional as F\n",
    "import torch.optim as optim\n",
    "import numpy as np\n",
    "import torchvision\n",
    "import copy\n",
    "import random\n",
    "\n",
    "from torchvision import datasets, transforms\n",
    "from sklearn.covariance import EmpiricalCovariance\n",
    "from scipy.stats import multivariate_normal\n",
    "from torch.distributions.multivariate_normal import MultivariateNormal\n",
    "from autoattack import AutoAttack\n",
    "\n",
    "root = 'Gaussian_results/'\n",
    "if not os.path.isdir(root):\n",
    "    os.mkdir(root)"
   ]
  },
  {
   "cell_type": "code",
   "execution_count": 2,
   "metadata": {},
   "outputs": [],
   "source": [
    "def show_data(X):\n",
    "\n",
    "    for idx in range(n_cls):\n",
    "        X_curr = X[(idx*n_sample):((idx+1)*n_sample)]\n",
    "        plt.scatter(X_curr[:, 0].T, X_curr[:, 1].T, color=color_list[idx], label='label : {}'.format(idx), s=35) \n",
    "\n",
    "    plt.grid(True)\n",
    "    plt.xticks(fontsize=16)\n",
    "    plt.yticks(fontsize=16)    \n",
    "    plt.axis('equal')\n"
   ]
  },
  {
   "cell_type": "code",
   "execution_count": 3,
   "metadata": {},
   "outputs": [],
   "source": [
    "def load_data(n_sample, variance): \n",
    "    \n",
    "    X, Y = torch.Tensor(0, 2), torch.Tensor(0, 1)\n",
    "    \n",
    "    for i in range(3):\n",
    "        for j in range(3):\n",
    "            m = [-10 + 10 * i, -10 + 10 * j]\n",
    "            cov =  np.array([[0.1, 0], [0, 0.1]]) * variance\n",
    "            rng = np.random.RandomState(3 * j + i)\n",
    "            X_ij = rng.multivariate_normal(mean=m, cov=cov, size=n_sample)\n",
    "            \n",
    "            X_ij = torch.from_numpy(X_ij)\n",
    "            Y_ij = torch.ones(X_ij.size()[0], 1) * (3 * i + j)\n",
    "            \n",
    "            X = torch.cat([X, X_ij])\n",
    "            Y = torch.cat([Y, Y_ij])\n",
    "    \n",
    "    X = X.float()\n",
    "    Y = Y.long()\n",
    "    print(X.size())\n",
    "    show_data(X)\n",
    "    return X, Y"
   ]
  },
  {
   "cell_type": "markdown",
   "metadata": {},
   "source": [
    "## Visualize the training data"
   ]
  },
  {
   "cell_type": "code",
   "execution_count": 4,
   "metadata": {
    "scrolled": true
   },
   "outputs": [
    {
     "name": "stdout",
     "output_type": "stream",
     "text": [
      "torch.Size([45000, 2])\n",
      "torch.Size([45000, 2]) torch.Size([45000, 1])\n"
     ]
    },
    {
     "data": {
      "image/png": "[encoded data removed]",
      "text/plain": [
       "<Figure size 432x288 with 1 Axes>"
      ]
     },
     "metadata": {
      "needs_background": "light"
     },
     "output_type": "display_data"
    }
   ],
   "source": [
    "# Settings\n",
    "feat_dim = 2\n",
    "n_aug = 50\n",
    "n_sample = 5000\n",
    "show_plt = False\n",
    "variance = 1\n",
    "loss_lam = 1\n",
    "\n",
    "color_list = ['#00b894', '#00cec9', '#0984e3', '#6c5ce7',  '#2d3436', '#fdcb6e', '#e17055', '#d63031', '#e84393']\n",
    "background_list = ['#55efc4', '#81ecec', '#74b9ff', '#a29bfe', '#636e72', '#ffeaa7', '#fab1a0', '#ff7675', '#fd79a8']\n",
    "soft_color_list = ['slategrey', 'slategrey', 'slategrey', 'indigo', 'maroon', 'darkseagreen']\n",
    "all_shape=['.','o','v','^','>','<','s','p','*','h','H','D', 'd', '', '', '']\n",
    "marker_shape=['^','v','>', '*', 'p', 'd']\n",
    "\n",
    "# Load data\n",
    "n_cls = 9\n",
    "label_list = [i for i in range(n_cls)]\n",
    "digit_list = label_list\n",
    "data, label = load_data(n_sample = n_sample, variance = variance)\n",
    "print(data.shape, label.shape)"
   ]
  },
  {
   "cell_type": "markdown",
   "metadata": {},
   "source": [
    "## Mixup"
   ]
  },
  {
   "cell_type": "code",
   "execution_count": 5,
   "metadata": {},
   "outputs": [],
   "source": [
    "def get_lambda(alpha=2.0):\n",
    "    '''Return lambda'''\n",
    "    if alpha > 0.:\n",
    "        lam = np.random.beta(alpha, alpha)\n",
    "    else:\n",
    "        lam = 1.\n",
    "    return lam"
   ]
  },
  {
   "cell_type": "code",
   "execution_count": 6,
   "metadata": {},
   "outputs": [],
   "source": [
    "def input_mixup(x, y, lam):\n",
    "\n",
    "    batch_size = x.size()[0]\n",
    "\n",
    "    index = torch.randperm(batch_size)\n",
    "\n",
    "    mixed_x = lam * x + (1 - lam) * x[index, :]\n",
    "    y_a, y_b = y, y[index]\n",
    "    return mixed_x, y_a, y_b"
   ]
  },
  {
   "cell_type": "code",
   "execution_count": 7,
   "metadata": {},
   "outputs": [],
   "source": [
    "def mixup_criterion(y_a, y_b, lam):\n",
    "    return lambda criterion, pred: lam * criterion(pred, y_a) + (1 - lam) * criterion(pred, y_b)"
   ]
  },
  {
   "cell_type": "markdown",
   "metadata": {},
   "source": [
    "## GMLabel"
   ]
  },
  {
   "cell_type": "markdown",
   "metadata": {},
   "source": [
    "## train the network\n"
   ]
  },
  {
   "cell_type": "code",
   "execution_count": 8,
   "metadata": {},
   "outputs": [],
   "source": [
    "def seed(seed):\n",
    "    random.seed(seed)\n",
    "    torch.manual_seed(seed)\n",
    "    np.random.seed(seed)\n",
    "    os.environ['PYTHONHASHSEED'] = str(seed)"
   ]
  },
  {
   "cell_type": "code",
   "execution_count": 9,
   "metadata": {},
   "outputs": [],
   "source": [
    "class SoftCrossEntropy(nn.Module):\n",
    "\n",
    "    def __init__(self, reduction='mean'):\n",
    "        super().__init__()\n",
    "        self.reduction = reduction\n",
    "        return\n",
    "\n",
    "    def forward(self, inputs, target):\n",
    "        log_likelihood = - F.log_softmax(inputs, dim=1)\n",
    "        batch_size = target.size()[0]\n",
    "\n",
    "        if self.reduction == \"mean\":\n",
    "            loss = torch.sum(torch.mul(log_likelihood, target)) / batch_size\n",
    "        elif self.reduction == \"none\":\n",
    "            loss = torch.sum(torch.mul(log_likelihood, target), dim=-1)\n",
    "        else:\n",
    "            print('Fill in here')\n",
    "            exit()\n",
    "        return loss\n"
   ]
  },
  {
   "cell_type": "code",
   "execution_count": 10,
   "metadata": {},
   "outputs": [],
   "source": [
    "class G_net(nn.Module):\n",
    "    # initializers\n",
    "    def __init__(self):\n",
    "        super().__init__()\n",
    "        self.fc1 = nn.Linear(2, 64)\n",
    "        self.fc2 = nn.Linear(64, 128)\n",
    "        self.fc3 = nn.Linear(128, 128)\n",
    "        self.fc4 = nn.Linear(128, n_cls)\n",
    "\n",
    "    # forward method\n",
    "    def forward(self, input):\n",
    "        x = F.relu(self.fc1(input))\n",
    "        x = F.relu(self.fc2(x))\n",
    "        x = F.relu(self.fc3(x))\n",
    "        x = self.fc4(x)\n",
    "\n",
    "        return x\n",
    "    \n",
    "    def latent(self, input):\n",
    "        \n",
    "        x = F.relu(self.fc1(input))\n",
    "        x = F.relu(self.fc2(x))\n",
    "        x = F.relu(self.fc3(x))\n",
    "        \n",
    "        return x\n",
    "    \n",
    "    def out(self, input):\n",
    "        \n",
    "        x = self.fc4(input)\n",
    "        \n",
    "        return x"
   ]
  },
  {
   "cell_type": "code",
   "execution_count": 11,
   "metadata": {},
   "outputs": [],
   "source": [
    "def draw_figure(net, mode):\n",
    "\n",
    "    rand_data = torch.rand((500000, 2)) * torch.tensor([[40, 40]]) - torch.tensor([[20, 20]])\n",
    "\n",
    "    output = net(rand_data)\n",
    "    _, predict = torch.max(output, dim=1)\n",
    "\n",
    "    predict = predict.cpu()\n",
    "    fig, axs = plt.subplots(1,1)\n",
    "\n",
    "    \n",
    "    for i in range(n_cls):\n",
    "        data_i = rand_data[predict == i]\n",
    "        plt.scatter(data_i[:, 0], data_i[:, 1], s=0.5, color=background_list[i])\n",
    "\n",
    "    for i in range(n_cls):\n",
    "        plt.scatter(data[n_sample * i:n_sample * (i + 1), 0], data[n_sample * i:n_sample * (i + 1), 1], color=color_list[i])\n",
    "\n",
    "    plt.xlim(-20, 20)\n",
    "    plt.ylim(-20, 20)\n",
    "    axs.set_aspect('equal', 'box') \n",
    "    plt.xticks(fontsize=16)    \n",
    "    plt.yticks(fontsize=16) \n",
    "    \n",
    "    plt.savefig('Gaussian_results/G_shape_1x4_boundary_{}.png'.format(mode))"
   ]
  },
  {
   "cell_type": "code",
   "execution_count": 12,
   "metadata": {},
   "outputs": [],
   "source": [
    "def cov(tensor, rowvar=True, bias=False):\n",
    "    \"\"\"Estimate a covariance matrix (np.cov)\"\"\"\n",
    "    tensor = tensor if rowvar else tensor.transpose(-1, -2)\n",
    "    tensor = tensor - tensor.mean(dim=-1, keepdim=True)\n",
    "    factor = 1 / (tensor.shape[-1] - int(not bool(bias)))\n",
    "    return torch.diag(factor * ((tensor.unsqueeze(-2) @ tensor.unsqueeze(-1)).squeeze() + torch.rand(tensor.shape[0]) * 1e-8))"
   ]
  },
  {
   "cell_type": "code",
   "execution_count": 13,
   "metadata": {},
   "outputs": [],
   "source": [
    "def train(train_loader, test_loader, train_epoch, lr, mode, alpha):\n",
    "\n",
    "    net = G_net()\n",
    "    lossfunc = SoftCrossEntropy()\n",
    "    optimizer = optim.Adam(net.parameters(), lr=lr, betas=(0.9, 0.999))\n",
    "\n",
    "    train_hist = {}\n",
    "    train_hist['losses'] = []\n",
    "    train_hist['per_epoch_ptimes'] = []\n",
    "    train_hist['total_ptime'] = []\n",
    "    \n",
    "    best_net = None\n",
    "    best_acc = 0\n",
    "\n",
    "    print('Training start!')\n",
    "    start_time = time.time()\n",
    "\n",
    "    for epoch in range(train_epoch):\n",
    "        losses = []\n",
    "        epoch_start_time = time.time()\n",
    "\n",
    "        if mode == 0: # mixup + GMLabel\n",
    "            \n",
    "            lossfunc = SoftCrossEntropy(reduction='none')\n",
    "            \n",
    "            for data, label in train_loader:\n",
    "\n",
    "                net.zero_grad()\n",
    "\n",
    "                feature = data\n",
    "\n",
    "                # vanilla mixup\n",
    "                batch_size = data.size(0)\n",
    "                mix_lam = np.random.beta(1, 1)\n",
    "                random_indices = torch.randperm(batch_size)\n",
    "                mid_data = mix_lam * data + (1 - mix_lam) * data[random_indices]\n",
    "                mix_label_1, mix_label_2 = label, label[random_indices]\n",
    "\n",
    "                mid_feature_pack = mid_data\n",
    "                feature_pack, label_pack, mean_pack = [], [], []\n",
    "\n",
    "                for digit in digit_list:\n",
    "                    feature_selected = feature[torch.max(label, dim=1)[1] == digit]\n",
    "                    label_selected = label[torch.max(label, dim=1)[1] == digit]\n",
    "\n",
    "                    if feature_selected.size(0) == 0:\n",
    "                        continue\n",
    "\n",
    "                    feature_pack.append(feature_selected)\n",
    "                    label_pack.append(label_selected)\n",
    "\n",
    "                    mean = torch.mean(feature_selected, dim=0, keepdim=True).detach()\n",
    "                    mean_pack.append(mean)\n",
    "\n",
    "                num_class = len(feature_pack)\n",
    "\n",
    "                # prepare labels\n",
    "                labels = []\n",
    "                for label_selected in label_pack:\n",
    "                    labels.append(label_selected[0:1])\n",
    "                labels = torch.cat(labels)\n",
    "\n",
    "                # prepare matrices\n",
    "                feature_pack = torch.cat(feature_pack)\n",
    "                mean_pack = torch.cat(mean_pack)\n",
    "                label_pack = torch.cat(label_pack)\n",
    "\n",
    "                # correct labels\n",
    "                mean = mean_pack.unsqueeze(0).repeat(feature_pack.size(0), 1, 1)\n",
    "                mid_feature = mid_feature_pack.detach().unsqueeze(1).repeat(1, num_class, 1)\n",
    "\n",
    "                pdf = -0.5 * ((mid_feature - mean) ** 2).sum(dim=-1).squeeze()\n",
    "                pdf_value, pdf_indices = torch.sort(pdf, dim=-1, descending=True)\n",
    "                lam = 1 / (1 + torch.exp(pdf_value[:, 1] - pdf_value[:, 0]))\n",
    "\n",
    "                # generate middle label\n",
    "                mid_label_pack = labels.unsqueeze(0).repeat(feature_pack.size(0), 1, 1) \\\n",
    "                    .gather(dim=1, index=pdf_indices[:, 0:2].unsqueeze(-1).repeat(1, 1, labels.size(-1))).squeeze(1) \\\n",
    "\n",
    "                label_1 = mid_label_pack[:, 0]\n",
    "                label_2 = mid_label_pack[:, 1]\n",
    "\n",
    "                # continue training\n",
    "\n",
    "                output = net(mid_feature_pack)\n",
    "\n",
    "                loss_func_2 = mixup_criterion(mix_label_1, mix_label_2, mix_lam)\n",
    "                loss_func_3 = mixup_criterion(label_1, label_2, lam)\n",
    "\n",
    "                general_loss = loss_func_2(lossfunc, output).mean()\n",
    "                gm_loss = loss_func_3(lossfunc, output).mean()\n",
    "\n",
    "                loss = (1 - loss_lam) * general_loss + loss_lam * gm_loss\n",
    "\n",
    "                loss.backward()\n",
    "                optimizer.step()\n",
    "\n",
    "                losses.append(loss.data.item())\n",
    "\n",
    "        elif mode == 1: # pure mixup\n",
    "            for data, label in train_loader:\n",
    "                # mixup\n",
    "                lam = get_lambda(alpha)\n",
    "                data, label_a, label_b = input_mixup(data, label, lam)\n",
    "\n",
    "                # forward\n",
    "                net.zero_grad()\n",
    "                output = net(data)\n",
    "\n",
    "                loss_func_2 = mixup_criterion(label_a, label_b, lam)\n",
    "                loss = loss_func_2(lossfunc, output)\n",
    "\n",
    "                # backward\n",
    "                loss.backward()\n",
    "                optimizer.step()\n",
    "\n",
    "                losses.append(loss.data.item())\n",
    "                \n",
    "        elif mode == 2: # vanilla\n",
    "            for data, label in train_loader:\n",
    "                # forward\n",
    "                net.zero_grad()\n",
    "                output = net(data)\n",
    "                loss = lossfunc(output, label)\n",
    "\n",
    "                # backward\n",
    "                loss.backward()\n",
    "                optimizer.step()\n",
    "                losses.append(loss.data.item())\n",
    "\n",
    "        epoch_end_time = time.time()\n",
    "        per_epoch_ptime = epoch_end_time - epoch_start_time\n",
    "\n",
    "        print('[%d/%d] - ptime: %.2f, loss: %.6f' % ((epoch + 1),\n",
    "            train_epoch, per_epoch_ptime,\n",
    "            torch.mean(torch.FloatTensor(losses))))\n",
    "\n",
    "        train_hist['losses'].append(torch.mean(torch.FloatTensor(losses)))\n",
    "        train_hist['per_epoch_ptimes'].append(per_epoch_ptime)\n",
    "\n",
    "        # test on test dataset every 10 epochs\n",
    "        if (epoch + 1) % 1 == 0:\n",
    "            acc = test(net, test_loader)\n",
    "            if acc >= best_acc:\n",
    "                best_net = copy.deepcopy(net)\n",
    "                best_acc = acc\n",
    "\n",
    "    end_time = time.time()\n",
    "    total_ptime = end_time - start_time\n",
    "    train_hist['total_ptime'].append(total_ptime)\n",
    "\n",
    "    print(\"Avg one epoch ptime: %.2f, total %d epochs ptime: %.2f\" % (\n",
    "        torch.mean(torch.FloatTensor(train_hist['per_epoch_ptimes'])), train_epoch, total_ptime))\n",
    "    print(\"Training finish!... save training results\")\n",
    "\n",
    "    return best_net"
   ]
  },
  {
   "cell_type": "code",
   "execution_count": 14,
   "metadata": {},
   "outputs": [],
   "source": [
    "def test(net, test_loader):\n",
    "    net.eval()\n",
    "\n",
    "    total = 0\n",
    "    correct = 0\n",
    "\n",
    "    for data, label in test_loader:\n",
    "        output = net(data)\n",
    "\n",
    "        # convert labels\n",
    "        _, predict = torch.max(output, dim=1)\n",
    "        _, label = torch.max(label, dim=1)\n",
    "\n",
    "        total += predict.size()[0]\n",
    "        correct += (predict == label).sum()\n",
    "\n",
    "    accuracy = correct.data.item() / total\n",
    "    print(\"Testing accuracy: %.3f%%\" % (accuracy * 100))\n",
    "\n",
    "    net.train()\n",
    "\n",
    "    return accuracy"
   ]
  },
  {
   "cell_type": "code",
   "execution_count": 15,
   "metadata": {},
   "outputs": [],
   "source": [
    "def train_model(mode):\n",
    "    alpha = 2.0\n",
    "\n",
    "    if mode == 0: \n",
    "        num_fold = 4\n",
    "    else:\n",
    "        num_fold = 0\n",
    "    \n",
    "    batch_size = 1000\n",
    "    lr = 0.001\n",
    "    train_epoch = 10\n",
    "\n",
    "    # load train data \n",
    "    train_data, train_label = data, label.view(-1)\n",
    "    test_data, test_label = data_2, label_2.view(-1)\n",
    "    \n",
    "    onehot = torch.zeros(n_cls, n_cls).long()\n",
    "    onehot = onehot.scatter_(1, torch.LongTensor(range(n_cls)).view(n_cls, 1), 1)\n",
    "    train_label = onehot[train_label]\n",
    "    test_label = onehot[test_label]\n",
    "\n",
    "    train_loader = torch.utils.data.DataLoader(torch.utils.data.TensorDataset(train_data, train_label), batch_size=batch_size, shuffle=True)\n",
    "    test_loader = torch.utils.data.DataLoader(torch.utils.data.TensorDataset(test_data, test_label), batch_size=batch_size, shuffle=True)\n",
    "    \n",
    "    # train the network\n",
    "    best_net = train(train_loader, test_loader, train_epoch, lr, mode, alpha)\n",
    "\n",
    "    return best_net"
   ]
  },
  {
   "cell_type": "code",
   "execution_count": 16,
   "metadata": {},
   "outputs": [
    {
     "name": "stdout",
     "output_type": "stream",
     "text": [
      "torch.Size([9000, 2])\n"
     ]
    },
    {
     "data": {
      "image/png": "[encoded data removed]",
      "text/plain": [
       "<Figure size 432x288 with 1 Axes>"
      ]
     },
     "metadata": {
      "needs_background": "light"
     },
     "output_type": "display_data"
    }
   ],
   "source": [
    "n_sample = 1000\n",
    "data_2, label_2 = load_data(n_sample = n_sample, variance = variance)"
   ]
  },
  {
   "cell_type": "code",
   "execution_count": 17,
   "metadata": {
    "scrolled": true
   },
   "outputs": [
    {
     "name": "stdout",
     "output_type": "stream",
     "text": [
      "Training start!\n",
      "[1/10] - ptime: 1.29, loss: 0.997826\n",
      "Testing accuracy: 100.000%\n",
      "[2/10] - ptime: 0.98, loss: 0.424150\n",
      "Testing accuracy: 100.000%\n",
      "[3/10] - ptime: 0.97, loss: 0.217606\n",
      "Testing accuracy: 100.000%\n",
      "[4/10] - ptime: 0.93, loss: 0.274362\n",
      "Testing accuracy: 100.000%\n",
      "[5/10] - ptime: 0.94, loss: 0.157739\n",
      "Testing accuracy: 100.000%\n",
      "[6/10] - ptime: 0.79, loss: 0.125004\n",
      "Testing accuracy: 100.000%\n",
      "[7/10] - ptime: 0.86, loss: 0.137979\n",
      "Testing accuracy: 100.000%\n",
      "[8/10] - ptime: 0.76, loss: 0.097265\n",
      "Testing accuracy: 100.000%\n",
      "[9/10] - ptime: 0.82, loss: 0.115467\n",
      "Testing accuracy: 100.000%\n",
      "[10/10] - ptime: 0.78, loss: 0.087789\n",
      "Testing accuracy: 100.000%\n",
      "Avg one epoch ptime: 0.91, total 10 epochs ptime: 10.09\n",
      "Training finish!... save training results\n"
     ]
    }
   ],
   "source": [
    "mode = 0\n",
    "seed(2)\n",
    "best_net = train_model(mode) # 0 for mixup+GMLabel, 1 for mixup, 2 for vanilla"
   ]
  },
  {
   "cell_type": "code",
   "execution_count": 18,
   "metadata": {},
   "outputs": [
    {
     "data": {
      "image/png": "[encoded data removed]",
      "text/plain": [
       "<Figure size 432x288 with 1 Axes>"
      ]
     },
     "metadata": {
      "needs_background": "light"
     },
     "output_type": "display_data"
    }
   ],
   "source": [
    "n_sample = 5000\n",
    "draw_figure(best_net, mode)"
   ]
  },
  {
   "cell_type": "code",
   "execution_count": 19,
   "metadata": {},
   "outputs": [
    {
     "name": "stdout",
     "output_type": "stream",
     "text": [
      "Training start!\n",
      "[1/10] - ptime: 0.79, loss: 1.467306\n",
      "Testing accuracy: 99.978%\n",
      "[2/10] - ptime: 0.62, loss: 1.279197\n",
      "Testing accuracy: 100.000%\n",
      "[3/10] - ptime: 0.60, loss: 1.297815\n",
      "Testing accuracy: 100.000%\n",
      "[4/10] - ptime: 0.56, loss: 1.248344\n",
      "Testing accuracy: 100.000%\n",
      "[5/10] - ptime: 0.78, loss: 1.167372\n",
      "Testing accuracy: 100.000%\n",
      "[6/10] - ptime: 0.77, loss: 1.250723\n",
      "Testing accuracy: 100.000%\n",
      "[7/10] - ptime: 0.71, loss: 1.363460\n",
      "Testing accuracy: 100.000%\n",
      "[8/10] - ptime: 0.72, loss: 1.192850\n",
      "Testing accuracy: 100.000%\n",
      "[9/10] - ptime: 0.78, loss: 1.177139\n",
      "Testing accuracy: 100.000%\n",
      "[10/10] - ptime: 0.72, loss: 1.190842\n",
      "Testing accuracy: 100.000%\n",
      "Avg one epoch ptime: 0.70, total 10 epochs ptime: 7.99\n",
      "Training finish!... save training results\n"
     ]
    }
   ],
   "source": [
    "mode = 1\n",
    "seed(2)\n",
    "best_net_2 = train_model(mode) # 0 for mixup+GMLabel, 1 for mixup, 2 for vanilla"
   ]
  },
  {
   "cell_type": "code",
   "execution_count": 20,
   "metadata": {},
   "outputs": [
    {
     "data": {
      "image/png": "[encoded data removed]",
      "text/plain": [
       "<Figure size 432x288 with 1 Axes>"
      ]
     },
     "metadata": {
      "needs_background": "light"
     },
     "output_type": "display_data"
    }
   ],
   "source": [
    "draw_figure(best_net_2, mode)"
   ]
  },
  {
   "cell_type": "code",
   "execution_count": 21,
   "metadata": {},
   "outputs": [
    {
     "name": "stdout",
     "output_type": "stream",
     "text": [
      "Training start!\n",
      "[1/10] - ptime: 0.65, loss: 0.635554\n",
      "Testing accuracy: 100.000%\n",
      "[2/10] - ptime: 0.77, loss: 0.060146\n",
      "Testing accuracy: 100.000%\n",
      "[3/10] - ptime: 0.56, loss: 0.001782\n",
      "Testing accuracy: 100.000%\n",
      "[4/10] - ptime: 0.62, loss: 0.000743\n",
      "Testing accuracy: 100.000%\n",
      "[5/10] - ptime: 0.53, loss: 0.000479\n",
      "Testing accuracy: 100.000%\n",
      "[6/10] - ptime: 0.58, loss: 0.000339\n",
      "Testing accuracy: 100.000%\n",
      "[7/10] - ptime: 0.61, loss: 0.000240\n",
      "Testing accuracy: 100.000%\n",
      "[8/10] - ptime: 0.63, loss: 0.000180\n",
      "Testing accuracy: 100.000%\n",
      "[9/10] - ptime: 0.67, loss: 0.000143\n",
      "Testing accuracy: 100.000%\n",
      "[10/10] - ptime: 0.62, loss: 0.000116\n",
      "Testing accuracy: 100.000%\n",
      "Avg one epoch ptime: 0.62, total 10 epochs ptime: 7.30\n",
      "Training finish!... save training results\n"
     ]
    }
   ],
   "source": [
    "mode = 2\n",
    "seed(2)\n",
    "best_net_3 = train_model(mode) # 0 for mixup+GMLabel, 1 for mixup, 2 for vanilla"
   ]
  },
  {
   "cell_type": "code",
   "execution_count": 22,
   "metadata": {},
   "outputs": [
    {
     "data": {
      "image/png": "[encoded data removed]",
      "text/plain": [
       "<Figure size 432x288 with 1 Axes>"
      ]
     },
     "metadata": {
      "needs_background": "light"
     },
     "output_type": "display_data"
    }
   ],
   "source": [
    "draw_figure(best_net_3, mode)"
   ]
  },
  {
   "cell_type": "code",
   "execution_count": null,
   "metadata": {},
   "outputs": [],
   "source": []
  }
 ],
 "metadata": {
  "anaconda-cloud": {},
  "kernelspec": {
   "display_name": "Python 3 (ipykernel)",
   "language": "python",
   "name": "python3"
  },
  "language_info": {
   "codemirror_mode": {
    "name": "ipython",
    "version": 3
   },
   "file_extension": ".py",
   "mimetype": "text/x-python",
   "name": "python",
   "nbconvert_exporter": "python",
   "pygments_lexer": "ipython3",
   "version": "3.7.11"
  }
 },
 "nbformat": 4,
 "nbformat_minor": 4
}
